{
 "cells": [
  {
   "cell_type": "code",
   "execution_count": 1,
   "metadata": {
    "execution": {
     "iopub.execute_input": "2024-12-03T03:25:36.051887Z",
     "iopub.status.busy": "2024-12-03T03:25:36.051009Z",
     "iopub.status.idle": "2024-12-03T03:26:37.803815Z",
     "shell.execute_reply": "2024-12-03T03:26:37.802575Z"
    }
   },
   "outputs": [
    {
     "name": "stderr",
     "output_type": "stream",
     "text": [
      "24/12/03 10:26:21 WARN Utils: Your hostname, Zaki-69 resolves to a loopback address: 127.0.1.1; using 10.255.255.254 instead (on interface lo)\n",
      "24/12/03 10:26:21 WARN Utils: Set SPARK_LOCAL_IP if you need to bind to another address\n"
     ]
    },
    {
     "name": "stderr",
     "output_type": "stream",
     "text": [
      "Setting default log level to \"WARN\".\n",
      "To adjust logging level use sc.setLogLevel(newLevel). For SparkR, use setLogLevel(newLevel).\n"
     ]
    },
    {
     "name": "stderr",
     "output_type": "stream",
     "text": [
      "24/12/03 10:26:23 WARN NativeCodeLoader: Unable to load native-hadoop library for your platform... using builtin-java classes where applicable\n"
     ]
    },
    {
     "name": "stderr",
     "output_type": "stream",
     "text": [
      "24/12/03 10:26:36 WARN GarbageCollectionMetrics: To enable non-built-in garbage collector(s) List(G1 Concurrent GC), users should configure it(them) to spark.eventLog.gcMetrics.youngGenerationGarbageCollectors or spark.eventLog.gcMetrics.oldGenerationGarbageCollectors\n"
     ]
    },
    {
     "name": "stdout",
     "output_type": "stream",
     "text": [
      "+---------+-----------+-----------+------+------+----------+-------------+--------+-----+----------+-----------+---------------------------------+\n",
      "|ProductID|ProductName|   Category| Price|Rating|NumReviews|StockQuantity|Discount|Sales| DateAdded|       City|Stock In Vast or Limited Quantity|\n",
      "+---------+-----------+-----------+------+------+----------+-------------+--------+-----+----------+-----------+---------------------------------+\n",
      "|        1| Headphones|Electronics|400.31|   1.7|      3772|           20|    0.08|  466|2023-11-10|Albuquerque|                             NULL|\n",
      "|        2| Headphones|Electronics|235.03|   2.3|      2919|          663|    0.33| 1332|2023-09-28|     Queens|                             NULL|\n",
      "|        3| Smartwatch|Electronics| 417.9|   1.8|      1184|          459|    0.31|  252|2023-10-20|     Austin|                             NULL|\n",
      "|        4| Smartphone|Electronics| 152.7|   3.4|      2047|          475|    0.49| 1806|2023-12-05|     Dallas|                             NULL|\n",
      "|        5|     Laptop|Electronics|394.74|   1.8|      1267|          831|    0.23| 1508|2023-08-10|     Tucson|                             NULL|\n",
      "+---------+-----------+-----------+------+------+----------+-------------+--------+-----+----------+-----------+---------------------------------+\n",
      "only showing top 5 rows\n",
      "\n"
     ]
    }
   ],
   "source": [
    "from pyspark.sql import SparkSession\n",
    "from pyspark.sql.functions import count, when, col, udf, lit\n",
    "from pyspark.ml.feature import VectorAssembler, StandardScaler\n",
    "from pyspark.ml.linalg import Vectors\n",
    "from pyspark.sql.types import DoubleType\n",
    "from pyspark.ml import Pipeline\n",
    "import matplotlib.pyplot as plt\n",
    "import seaborn as sns\n",
    "import numpy as np\n",
    "\n",
    "\n",
    "spark = SparkSession.builder \\\n",
    "    .appName(\"ProductDataProcessing\") \\\n",
    "    .getOrCreate()\n",
    "\n",
    "file_path = \"dataset.csv\"\n",
    "df = spark.read.option(\"header\", \"true\").csv(file_path, inferSchema=True)\n",
    "\n",
    "df.show(5)\n"
   ]
  },
  {
   "cell_type": "markdown",
   "metadata": {},
   "source": [
    "# Validasi Data Type"
   ]
  },
  {
   "cell_type": "code",
   "execution_count": 2,
   "metadata": {
    "execution": {
     "iopub.execute_input": "2024-12-03T03:26:37.809794Z",
     "iopub.status.busy": "2024-12-03T03:26:37.808228Z",
     "iopub.status.idle": "2024-12-03T03:26:39.718111Z",
     "shell.execute_reply": "2024-12-03T03:26:39.717021Z"
    }
   },
   "outputs": [
    {
     "name": "stdout",
     "output_type": "stream",
     "text": [
      "+---------+-----------+--------+-----+------+----------+-------------+--------+-----+---------+----+---------------------------------+\n",
      "|ProductID|ProductName|Category|Price|Rating|NumReviews|StockQuantity|Discount|Sales|DateAdded|City|Stock In Vast or Limited Quantity|\n",
      "+---------+-----------+--------+-----+------+----------+-------------+--------+-----+---------+----+---------------------------------+\n",
      "|        0|          0|       0|    0|     0|         0|            0|       0|    0|        0|   0|                             1000|\n",
      "+---------+-----------+--------+-----+------+----------+-------------+--------+-----+---------+----+---------------------------------+\n",
      "\n",
      "root\n",
      " |-- ProductID: integer (nullable = true)\n",
      " |-- ProductName: string (nullable = true)\n",
      " |-- Category: string (nullable = true)\n",
      " |-- Price: float (nullable = true)\n",
      " |-- Rating: float (nullable = true)\n",
      " |-- NumReviews: integer (nullable = true)\n",
      " |-- StockQuantity: integer (nullable = true)\n",
      " |-- Discount: float (nullable = true)\n",
      " |-- Sales: integer (nullable = true)\n",
      " |-- DateAdded: date (nullable = true)\n",
      " |-- City: string (nullable = true)\n",
      " |-- Stock In Vast or Limited Quantity: boolean (nullable = true)\n",
      "\n"
     ]
    },
    {
     "name": "stdout",
     "output_type": "stream",
     "text": [
      "+---------+-----------+-----------+------+------+----------+-------------+--------+-----+----------+-----------+---------------------------------+\n",
      "|ProductID|ProductName|   Category| Price|Rating|NumReviews|StockQuantity|Discount|Sales| DateAdded|       City|Stock In Vast or Limited Quantity|\n",
      "+---------+-----------+-----------+------+------+----------+-------------+--------+-----+----------+-----------+---------------------------------+\n",
      "|        1| Headphones|Electronics|400.31|   1.7|      3772|           20|    0.08|  466|2023-11-10|Albuquerque|                             NULL|\n",
      "|        2| Headphones|Electronics|235.03|   2.3|      2919|          663|    0.33| 1332|2023-09-28|     Queens|                             NULL|\n",
      "|        3| Smartwatch|Electronics| 417.9|   1.8|      1184|          459|    0.31|  252|2023-10-20|     Austin|                             NULL|\n",
      "|        4| Smartphone|Electronics| 152.7|   3.4|      2047|          475|    0.49| 1806|2023-12-05|     Dallas|                             NULL|\n",
      "|        5|     Laptop|Electronics|394.74|   1.8|      1267|          831|    0.23| 1508|2023-08-10|     Tucson|                             NULL|\n",
      "+---------+-----------+-----------+------+------+----------+-------------+--------+-----+----------+-----------+---------------------------------+\n",
      "only showing top 5 rows\n",
      "\n"
     ]
    }
   ],
   "source": [
    "df_cleaned = df\n",
    "\n",
    "df_cleaned.select([count(when(col(c).isNull(), c)).alias(c) for c in df_cleaned.columns]).show()\n",
    "\n",
    "df_cleaned = df_cleaned.withColumn(\"Price\", col(\"Price\").cast(\"float\")) \\\n",
    "    .withColumn(\"Rating\", col(\"Rating\").cast(\"float\")) \\\n",
    "    .withColumn(\"NumReviews\", col(\"NumReviews\").cast(\"int\")) \\\n",
    "    .withColumn(\"StockQuantity\", col(\"StockQuantity\").cast(\"int\")) \\\n",
    "    .withColumn(\"Discount\", col(\"Discount\").cast(\"float\")) \\\n",
    "    .withColumn(\"Sales\", col(\"Sales\").cast(\"int\")) \\\n",
    "    .withColumn(\"DateAdded\", col(\"DateAdded\").cast(\"date\"))\n",
    "\n",
    "df_cleaned.printSchema()\n",
    "df_cleaned.show(5)"
   ]
  },
  {
   "cell_type": "markdown",
   "metadata": {},
   "source": [
    "*Sudah tidak ada duplikasi kolom*"
   ]
  },
  {
   "cell_type": "markdown",
   "metadata": {},
   "source": [
    "# Handling Missing Value"
   ]
  },
  {
   "cell_type": "code",
   "execution_count": 3,
   "metadata": {
    "execution": {
     "iopub.execute_input": "2024-12-03T03:26:39.721888Z",
     "iopub.status.busy": "2024-12-03T03:26:39.721514Z",
     "iopub.status.idle": "2024-12-03T03:26:40.433261Z",
     "shell.execute_reply": "2024-12-03T03:26:40.432094Z"
    }
   },
   "outputs": [
    {
     "name": "stdout",
     "output_type": "stream",
     "text": [
      "+---------------------------------+\n",
      "|Stock In Vast or Limited Quantity|\n",
      "+---------------------------------+\n",
      "|                             true|\n",
      "|                            false|\n",
      "|                             NULL|\n",
      "+---------------------------------+\n",
      "\n"
     ]
    }
   ],
   "source": [
    "df_cleaned.select(\"Stock In Vast or Limited Quantity\").distinct().show()\n"
   ]
  },
  {
   "cell_type": "code",
   "execution_count": 4,
   "metadata": {
    "execution": {
     "iopub.execute_input": "2024-12-03T03:26:40.437444Z",
     "iopub.status.busy": "2024-12-03T03:26:40.436681Z",
     "iopub.status.idle": "2024-12-03T03:26:40.972469Z",
     "shell.execute_reply": "2024-12-03T03:26:40.971627Z"
    }
   },
   "outputs": [
    {
     "name": "stdout",
     "output_type": "stream",
     "text": [
      "Rows with NULL in 'Stock In Vast or Limited Quantity': 1000\n",
      "Total rows in dataset: 2000\n"
     ]
    }
   ],
   "source": [
    "null_count = df_cleaned.filter(col(\"Stock In Vast or Limited Quantity\").isNull()).count()\n",
    "total_count = df_cleaned.count()\n",
    "\n",
    "print(f\"Rows with NULL in 'Stock In Vast or Limited Quantity': {null_count}\")\n",
    "print(f\"Total rows in dataset: {total_count}\")\n"
   ]
  },
  {
   "cell_type": "code",
   "execution_count": 5,
   "metadata": {
    "execution": {
     "iopub.execute_input": "2024-12-03T03:26:40.975936Z",
     "iopub.status.busy": "2024-12-03T03:26:40.975075Z",
     "iopub.status.idle": "2024-12-03T03:26:41.225767Z",
     "shell.execute_reply": "2024-12-03T03:26:41.224773Z"
    }
   },
   "outputs": [
    {
     "name": "stdout",
     "output_type": "stream",
     "text": [
      "+---------+-----------+-----------+------+------+----------+-------------+--------+-----+----------+-----------+\n",
      "|ProductID|ProductName|   Category| Price|Rating|NumReviews|StockQuantity|Discount|Sales| DateAdded|       City|\n",
      "+---------+-----------+-----------+------+------+----------+-------------+--------+-----+----------+-----------+\n",
      "|        1| Headphones|Electronics|400.31|   1.7|      3772|           20|    0.08|  466|2023-11-10|Albuquerque|\n",
      "|        2| Headphones|Electronics|235.03|   2.3|      2919|          663|    0.33| 1332|2023-09-28|     Queens|\n",
      "|        3| Smartwatch|Electronics| 417.9|   1.8|      1184|          459|    0.31|  252|2023-10-20|     Austin|\n",
      "|        4| Smartphone|Electronics| 152.7|   3.4|      2047|          475|    0.49| 1806|2023-12-05|     Dallas|\n",
      "|        5|     Laptop|Electronics|394.74|   1.8|      1267|          831|    0.23| 1508|2023-08-10|     Tucson|\n",
      "|        6| Headphones|Electronics| 93.56|   1.3|      2435|          600|    0.48|  241|2023-09-21| Louisville|\n",
      "|        7|     Laptop|Electronics| 57.86|   3.7|      1478|          427|    0.25| 1966|2024-05-08|  Cleveland|\n",
      "|        8|     Laptop|Electronics|201.62|   1.7|      3073|          389|     0.1| 1795|2023-08-07|    Houston|\n",
      "|        9| Smartphone|Electronics| 485.1|   4.1|       161|          201|    0.45|  269|2023-06-27| Cape Coral|\n",
      "|       10| Smartwatch|Electronics| 170.0|   3.3|      1275|          701|    0.16|  719|2023-10-19|Minneapolis|\n",
      "+---------+-----------+-----------+------+------+----------+-------------+--------+-----+----------+-----------+\n",
      "only showing top 10 rows\n",
      "\n"
     ]
    }
   ],
   "source": [
    "df_cleaned = df_cleaned.drop(\"Stock In Vast or Limited Quantity\")\n",
    "\n",
    "df_cleaned.show(10)"
   ]
  },
  {
   "cell_type": "markdown",
   "metadata": {},
   "source": [
    "*drop kolom **Stock In Vast or Limited Quantity** karena memiliki terlalu banyak missing values dan tidak memiliki peran yang kuat pada analisis* "
   ]
  },
  {
   "cell_type": "markdown",
   "metadata": {},
   "source": [
    "# Identifikasi Outliers"
   ]
  },
  {
   "cell_type": "code",
   "execution_count": 6,
   "metadata": {
    "execution": {
     "iopub.execute_input": "2024-12-03T03:26:41.228724Z",
     "iopub.status.busy": "2024-12-03T03:26:41.228351Z",
     "iopub.status.idle": "2024-12-03T03:26:43.308770Z",
     "shell.execute_reply": "2024-12-03T03:26:43.307657Z"
    }
   },
   "outputs": [
    {
     "data": {
      "image/png": "[encoded data removed]",
      "text/plain": [
       "<Figure size 1400x1000 with 4 Axes>"
      ]
     },
     "metadata": {},
     "output_type": "display_data"
    }
   ],
   "source": [
    "df_pd = df_cleaned.toPandas()\n",
    "\n",
    "fig, axes = plt.subplots(2, 2, figsize=(14, 10))\n",
    "\n",
    "sns.boxplot(x=df_pd[\"Price\"], ax=axes[0, 0], color=\"blue\")\n",
    "axes[0, 0].set_title(\"Box Plot of Price\")\n",
    "axes[0, 0].set_xlabel(\"Price\")\n",
    "\n",
    "sns.boxplot(x=df_pd[\"Sales\"], ax=axes[0, 1], color=\"green\")\n",
    "axes[0, 1].set_title(\"Box Plot of Sales\")\n",
    "axes[0, 1].set_xlabel(\"Sales\")\n",
    "\n",
    "sns.boxplot(x=df_pd[\"Rating\"], ax=axes[1, 0], color=\"red\")\n",
    "axes[1, 0].set_title(\"Box Plot of Rating\")\n",
    "axes[1, 0].set_xlabel(\"Rating\")\n",
    "\n",
    "sns.boxplot(x=df_pd[\"StockQuantity\"], ax=axes[1, 1], color=\"purple\")\n",
    "axes[1, 1].set_title(\"Box Plot of StockQuantity\")\n",
    "axes[1, 1].set_xlabel(\"StockQuantity\")\n",
    "\n",
    "plt.tight_layout()\n",
    "plt.show()\n"
   ]
  },
  {
   "cell_type": "markdown",
   "metadata": {},
   "source": [
    "# Standarisasi Data"
   ]
  },
  {
   "cell_type": "code",
   "execution_count": 7,
   "metadata": {
    "execution": {
     "iopub.execute_input": "2024-12-03T03:26:43.311620Z",
     "iopub.status.busy": "2024-12-03T03:26:43.311296Z",
     "iopub.status.idle": "2024-12-03T03:26:44.789689Z",
     "shell.execute_reply": "2024-12-03T03:26:44.788519Z"
    }
   },
   "outputs": [
    {
     "name": "stdout",
     "output_type": "stream",
     "text": [
      "+---------+--------------------+\n",
      "|ProductID|     scaled_features|\n",
      "+---------+--------------------+\n",
      "|        1|[2.83168254374402...|\n",
      "|        2|[1.66253740565672...|\n",
      "|        3|[2.95610932768222...|\n",
      "|        4|[1.08015767386577...|\n",
      "|        5|[2.79228184777162...|\n",
      "+---------+--------------------+\n",
      "only showing top 5 rows\n",
      "\n"
     ]
    }
   ],
   "source": [
    "columns_to_standardize = [\"Price\", \"Rating\", \"NumReviews\", \"StockQuantity\", \"Sales\"]\n",
    "assembler = VectorAssembler(inputCols=columns_to_standardize, outputCol=\"features\")\n",
    "scaler = StandardScaler(inputCol=\"features\", outputCol=\"scaled_features\")\n",
    "pipeline = Pipeline(stages=[assembler, scaler])\n",
    "scaled_df = pipeline.fit(df_cleaned).transform(df_cleaned)\n",
    "scaled_df.select(\"ProductID\", \"scaled_features\").show(5)"
   ]
  },
  {
   "cell_type": "markdown",
   "metadata": {},
   "source": [
    "# Visualization"
   ]
  },
  {
   "cell_type": "code",
   "execution_count": 8,
   "metadata": {
    "execution": {
     "iopub.execute_input": "2024-12-03T03:26:44.793272Z",
     "iopub.status.busy": "2024-12-03T03:26:44.792960Z",
     "iopub.status.idle": "2024-12-03T03:26:46.110484Z",
     "shell.execute_reply": "2024-12-03T03:26:46.109590Z"
    }
   },
   "outputs": [
    {
     "name": "stderr",
     "output_type": "stream",
     "text": [
      "24/12/03 10:26:45 WARN SparkStringUtils: Truncated the string representation of a plan since it was too large. This behavior can be adjusted by setting 'spark.sql.debug.maxToStringFields'.\n"
     ]
    },
    {
     "name": "stdout",
     "output_type": "stream",
     "text": [
      "+-------+------------------+-------------+--------------------+------------------+------------------+-----------------+------------------+-------------------+-----------------+---------+\n",
      "|summary|         ProductID|  ProductName|            Category|             Price|            Rating|       NumReviews|     StockQuantity|           Discount|            Sales|     City|\n",
      "+-------+------------------+-------------+--------------------+------------------+------------------+-----------------+------------------+-------------------+-----------------+---------+\n",
      "|  count|              2000|         2000|                2000|              2000|              2000|             2000|              2000|               2000|             2000|     2000|\n",
      "|   mean|             500.5|         NULL|                NULL|253.77551008415222| 3.025600005030632|         2498.753|           495.395|  0.251639999832958|         1011.037|     NULL|\n",
      "| stddev|288.74718607933556|         NULL|                NULL|141.36824710205963|1.1507157435150266|1462.875831655037|292.72600709984135|0.14641799580980136|581.9678469799334|     NULL|\n",
      "|    min|                 1|Action Figure|Art and crafting ...|             10.11|               1.0|                3|                 0|                0.0|                0|    Akron|\n",
      "|    max|              1000|   Wool Socks|                Wine|            499.74|               5.0|             4994|               993|                0.5|             1997|Worcester|\n",
      "+-------+------------------+-------------+--------------------+------------------+------------------+-----------------+------------------+-------------------+-----------------+---------+\n",
      "\n"
     ]
    }
   ],
   "source": [
    "df_cleaned.describe().show()"
   ]
  },
  {
   "cell_type": "code",
   "execution_count": 9,
   "metadata": {
    "execution": {
     "iopub.execute_input": "2024-12-03T03:26:46.114233Z",
     "iopub.status.busy": "2024-12-03T03:26:46.113808Z",
     "iopub.status.idle": "2024-12-03T03:26:46.289270Z",
     "shell.execute_reply": "2024-12-03T03:26:46.287916Z"
    }
   },
   "outputs": [
    {
     "name": "stdout",
     "output_type": "stream",
     "text": [
      "+---------+-----------+-----------+------+------+----------+-------------+--------+-----+----------+-----------+\n",
      "|ProductID|ProductName|   Category| Price|Rating|NumReviews|StockQuantity|Discount|Sales| DateAdded|       City|\n",
      "+---------+-----------+-----------+------+------+----------+-------------+--------+-----+----------+-----------+\n",
      "|        1| Headphones|Electronics|400.31|   1.7|      3772|           20|    0.08|  466|2023-11-10|Albuquerque|\n",
      "|        2| Headphones|Electronics|235.03|   2.3|      2919|          663|    0.33| 1332|2023-09-28|     Queens|\n",
      "|        3| Smartwatch|Electronics| 417.9|   1.8|      1184|          459|    0.31|  252|2023-10-20|     Austin|\n",
      "|        4| Smartphone|Electronics| 152.7|   3.4|      2047|          475|    0.49| 1806|2023-12-05|     Dallas|\n",
      "|        5|     Laptop|Electronics|394.74|   1.8|      1267|          831|    0.23| 1508|2023-08-10|     Tucson|\n",
      "|        6| Headphones|Electronics| 93.56|   1.3|      2435|          600|    0.48|  241|2023-09-21| Louisville|\n",
      "|        7|     Laptop|Electronics| 57.86|   3.7|      1478|          427|    0.25| 1966|2024-05-08|  Cleveland|\n",
      "|        8|     Laptop|Electronics|201.62|   1.7|      3073|          389|     0.1| 1795|2023-08-07|    Houston|\n",
      "|        9| Smartphone|Electronics| 485.1|   4.1|       161|          201|    0.45|  269|2023-06-27| Cape Coral|\n",
      "|       10| Smartwatch|Electronics| 170.0|   3.3|      1275|          701|    0.16|  719|2023-10-19|Minneapolis|\n",
      "+---------+-----------+-----------+------+------+----------+-------------+--------+-----+----------+-----------+\n",
      "only showing top 10 rows\n",
      "\n"
     ]
    }
   ],
   "source": [
    "df_cleaned.show(10)"
   ]
  }
 ],
 "metadata": {
  "kernelspec": {
   "display_name": "Python 3",
   "language": "python",
   "name": "python3"
  },
  "language_info": {
   "codemirror_mode": {
    "name": "ipython",
    "version": 3
   },
   "file_extension": ".py",
   "mimetype": "text/x-python",
   "name": "python",
   "nbconvert_exporter": "python",
   "pygments_lexer": "ipython3",
   "version": "3.12.6"
  }
 },
 "nbformat": 4,
 "nbformat_minor": 2
}
