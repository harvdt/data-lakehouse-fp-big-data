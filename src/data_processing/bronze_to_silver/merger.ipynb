{
	"cells": [
		{
			"cell_type": "code",
			"execution_count": null,
			"metadata": {},
			"outputs": [
				{
					"name": "stdout",
					"output_type": "stream",
					"text": [
						"      ProductID       ProductName     Category   Price  Rating  NumReviews  \\\n",
						"0             1        Headphones  Electronics  400.31     1.7        3772   \n",
						"1             2        Headphones  Electronics  235.03     2.3        2919   \n",
						"2             3        Smartwatch  Electronics  417.90     1.8        1184   \n",
						"3             4        Smartphone  Electronics  152.70     3.4        2047   \n",
						"4             5            Laptop  Electronics  394.74     1.8        1267   \n",
						"...         ...               ...          ...     ...     ...         ...   \n",
						"1995        996     Throw Blanket     Blankets  207.72     2.3        1973   \n",
						"1996        997    Fleece Blanket     Blankets  268.60     3.2         841   \n",
						"1997        998     Throw Blanket     Blankets   92.74     2.8        3454   \n",
						"1998        999  Weighted Blanket     Blankets  152.28     1.3        2850   \n",
						"1999       1000     Throw Blanket     Blankets  136.53     2.0        4055   \n",
						"\n",
						"      StockQuantity  Discount  Sales   DateAdded           City  \\\n",
						"0                20      0.08    466  2023-11-10    Albuquerque   \n",
						"1               663      0.33   1332  2023-09-28         Queens   \n",
						"2               459      0.31    252  2023-10-20         Austin   \n",
						"3               475      0.49   1806  2023-12-05         Dallas   \n",
						"4               831      0.23   1508  2023-08-10         Tucson   \n",
						"...             ...       ...    ...         ...            ...   \n",
						"1995             16      0.46    325   2/13/2024    Baton Rouge   \n",
						"1996            201      0.39   1546    7/1/2023      Worcester   \n",
						"1997            880      0.02   1295  10/29/2023        Raleigh   \n",
						"1998            752      0.34   1962  10/28/2023      Nashville   \n",
						"1999            282      0.38   1089   1/27/2024  San Francisco   \n",
						"\n",
						"     Stock In Vast or Limited Quantity  \n",
						"0                                  NaN  \n",
						"1                                  NaN  \n",
						"2                                  NaN  \n",
						"3                                  NaN  \n",
						"4                                  NaN  \n",
						"...                                ...  \n",
						"1995                              True  \n",
						"1996                              True  \n",
						"1997                             False  \n",
						"1998                             False  \n",
						"1999                             False  \n",
						"\n",
						"[2000 rows x 12 columns]\n"
					]
				}
			],
			"source": [
				"import os\n",
				"import pandas as pd\n",
				"\n",
				"folder_path = '../raw-dataset'\n",
				"\n",
				"dfs = []\n",
				"\n",
				"for filename in os.listdir(folder_path):\n",
				"  if filename.endswith('.csv'):\n",
				"    file_path = os.path.join(folder_path, filename)\n",
				"    df = pd.read_csv(file_path)\n",
				"    dfs.append(df)\n",
				"\n",
				"merged_df = pd.concat(dfs, ignore_index=True)\n",
				"\n",
				"merged_df.to_csv('dataset.csv', index=False)\n",
				"\n",
				"print(merged_df)"
			]
		}
	],
	"metadata": {
		"kernelspec": {
			"display_name": "Python 3",
			"language": "python",
			"name": "python3"
		},
		"language_info": {
			"codemirror_mode": {
				"name": "ipython",
				"version": 3
			},
			"file_extension": ".py",
			"mimetype": "text/x-python",
			"name": "python",
			"nbconvert_exporter": "python",
			"pygments_lexer": "ipython3",
			"version": "3.11.5"
		}
	},
	"nbformat": 4,
	"nbformat_minor": 2
}
